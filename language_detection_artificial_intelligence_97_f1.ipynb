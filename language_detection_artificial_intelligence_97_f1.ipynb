{
  "cells": [
    {
      "cell_type": "markdown",
      "id": "d273af9c",
      "metadata": {
        "id": "d273af9c",
        "papermill": {
          "duration": 0.016174,
          "end_time": "2022-05-02T17:56:08.913399",
          "exception": false,
          "start_time": "2022-05-02T17:56:08.897225",
          "status": "completed"
        },
        "tags": []
      },
      "source": [
        "> # Language Detection Artificial Intelligence Software - By Emirhan BULUT"
      ]
    },
    {
      "cell_type": "markdown",
      "id": "b59e960a",
      "metadata": {
        "id": "b59e960a",
        "papermill": {
          "duration": 0.014113,
          "end_time": "2022-05-02T17:56:08.942929",
          "exception": false,
          "start_time": "2022-05-02T17:56:08.928816",
          "status": "completed"
        },
        "tags": []
      },
      "source": [
        "I developed 'Language Detection Artificial Intelligence Software'. I share this software with all humanity for free from Kaggle and GitHub. It is an NLP system.\n",
        "The sensitivity score is quite high and the accuracy score is in a very advantageous position. It has 97% accuracy and 98.4% sensitivity score.\n",
        "I share Dataset and Artificial Intelligence Software as open source. I used the Ridge Classifier algorithm and manipulated the dataset to improve the algorithm. In this way, the sensitivity rate and score of the software has been increased. In addition, I adapted the data according to the algorithm and made the algorithm work. In this study, it was studied on the data, not on the algorithm.\n",
        "\n",
        "I wish conveniences,\n",
        "\n",
        "Emirhan BULUT\n",
        "\n",
        "Senior Artificial Intelligence Engineer\n",
        "\n",
        "###**The coding language used:**\n",
        "\n",
        "`Python 3.9.8`\n",
        "\n",
        "###**Libraries Used:**\n",
        "\n",
        "`NumPy`\n",
        "\n",
        "`Pandas`\n",
        "\n",
        "`Scikit-learn (SKLEARN)`\n",
        "\n",
        "<img class=\"fit-picture\"\n",
        "     src=\"https://github.com/emirhanai/Language-Detection-Artificial-Intelligence-Software/blob/main/Language%20Detection%20Artificial%20Intelligence%20Software.png?raw=true\"\n",
        "     alt=\"Language Detection Artificial Intelligence Software - Emirhan BULUT\">\n",
        "     \n",
        "### **Developer Information:**\n",
        "\n",
        "Name-Surname: **Emirhan BULUT**\n",
        "\n",
        "Contact (Email) : **emirhan@isap.solutions**\n",
        "\n",
        "LinkedIn : **[https://www.linkedin.com/in/artificialintelligencebulut/][LinkedinAccount]**\n",
        "\n",
        "[LinkedinAccount]: https://www.linkedin.com/in/artificialintelligencebulut/\n",
        "\n",
        "Kaggle: **[https://www.kaggle.com/emirhanai][Kaggle]**\n",
        "\n",
        "Official Website: **[https://www.emirhanbulut.com.tr][OfficialWebSite]**\n",
        "\n",
        "[Kaggle]: https://www.kaggle.com/emirhanai\n",
        "\n",
        "[OfficialWebSite]: https://www.emirhanbulut.com.tr\n"
      ]
    },
    {
      "cell_type": "markdown",
      "id": "43ec41a4",
      "metadata": {
        "id": "43ec41a4",
        "papermill": {
          "duration": 0.01481,
          "end_time": "2022-05-02T17:56:08.973345",
          "exception": false,
          "start_time": "2022-05-02T17:56:08.958535",
          "status": "completed"
        },
        "tags": []
      },
      "source": [
        "> # Introduction to Language Detection Artificial Intelligence Software\n",
        "> * **Import to ML (scikit-learn), Data (Pandas) and Math (NumPy) Libraries**\n",
        "> * **Data Loading from 'Kaggle'**"
      ]
    },
    {
      "cell_type": "code",
      "execution_count": 2,
      "id": "e8000e0f",
      "metadata": {
        "execution": {
          "iopub.execute_input": "2022-05-02T17:56:09.007146Z",
          "iopub.status.busy": "2022-05-02T17:56:09.006265Z",
          "iopub.status.idle": "2022-05-02T17:56:10.650880Z",
          "shell.execute_reply": "2022-05-02T17:56:10.649996Z"
        },
        "id": "e8000e0f",
        "outputId": "448e7978-d6d8-46cb-95ba-e15c889443fd",
        "papermill": {
          "duration": 1.664105,
          "end_time": "2022-05-02T17:56:10.653307",
          "exception": false,
          "start_time": "2022-05-02T17:56:08.989202",
          "status": "completed"
        },
        "tags": [],
        "colab": {
          "base_uri": "https://localhost:8080/",
          "height": 206
        }
      },
      "outputs": [
        {
          "output_type": "execute_result",
          "data": {
            "text/plain": [
              "                                                Text  language\n",
              "0  klement gottwaldi surnukeha palsameeriti ning ...  Estonian\n",
              "1  sebes joseph pereira thomas  på eng the jesuit...   Swedish\n",
              "2  ถนนเจริญกรุง อักษรโรมัน thanon charoen krung เ...      Thai\n",
              "3  விசாகப்பட்டினம் தமிழ்ச்சங்கத்தை இந்துப் பத்திர...     Tamil\n",
              "4  de spons behoort tot het geslacht haliclona en...     Dutch"
            ],
            "text/html": [
              "\n",
              "  <div id=\"df-4fa8696f-53e4-4054-8ea9-773b25234a6c\" class=\"colab-df-container\">\n",
              "    <div>\n",
              "<style scoped>\n",
              "    .dataframe tbody tr th:only-of-type {\n",
              "        vertical-align: middle;\n",
              "    }\n",
              "\n",
              "    .dataframe tbody tr th {\n",
              "        vertical-align: top;\n",
              "    }\n",
              "\n",
              "    .dataframe thead th {\n",
              "        text-align: right;\n",
              "    }\n",
              "</style>\n",
              "<table border=\"1\" class=\"dataframe\">\n",
              "  <thead>\n",
              "    <tr style=\"text-align: right;\">\n",
              "      <th></th>\n",
              "      <th>Text</th>\n",
              "      <th>language</th>\n",
              "    </tr>\n",
              "  </thead>\n",
              "  <tbody>\n",
              "    <tr>\n",
              "      <th>0</th>\n",
              "      <td>klement gottwaldi surnukeha palsameeriti ning ...</td>\n",
              "      <td>Estonian</td>\n",
              "    </tr>\n",
              "    <tr>\n",
              "      <th>1</th>\n",
              "      <td>sebes joseph pereira thomas  på eng the jesuit...</td>\n",
              "      <td>Swedish</td>\n",
              "    </tr>\n",
              "    <tr>\n",
              "      <th>2</th>\n",
              "      <td>ถนนเจริญกรุง อักษรโรมัน thanon charoen krung เ...</td>\n",
              "      <td>Thai</td>\n",
              "    </tr>\n",
              "    <tr>\n",
              "      <th>3</th>\n",
              "      <td>விசாகப்பட்டினம் தமிழ்ச்சங்கத்தை இந்துப் பத்திர...</td>\n",
              "      <td>Tamil</td>\n",
              "    </tr>\n",
              "    <tr>\n",
              "      <th>4</th>\n",
              "      <td>de spons behoort tot het geslacht haliclona en...</td>\n",
              "      <td>Dutch</td>\n",
              "    </tr>\n",
              "  </tbody>\n",
              "</table>\n",
              "</div>\n",
              "    <div class=\"colab-df-buttons\">\n",
              "\n",
              "  <div class=\"colab-df-container\">\n",
              "    <button class=\"colab-df-convert\" onclick=\"convertToInteractive('df-4fa8696f-53e4-4054-8ea9-773b25234a6c')\"\n",
              "            title=\"Convert this dataframe to an interactive table.\"\n",
              "            style=\"display:none;\">\n",
              "\n",
              "  <svg xmlns=\"http://www.w3.org/2000/svg\" height=\"24px\" viewBox=\"0 -960 960 960\">\n",
              "    <path d=\"M120-120v-720h720v720H120Zm60-500h600v-160H180v160Zm220 220h160v-160H400v160Zm0 220h160v-160H400v160ZM180-400h160v-160H180v160Zm440 0h160v-160H620v160ZM180-180h160v-160H180v160Zm440 0h160v-160H620v160Z\"/>\n",
              "  </svg>\n",
              "    </button>\n",
              "\n",
              "  <style>\n",
              "    .colab-df-container {\n",
              "      display:flex;\n",
              "      gap: 12px;\n",
              "    }\n",
              "\n",
              "    .colab-df-convert {\n",
              "      background-color: #E8F0FE;\n",
              "      border: none;\n",
              "      border-radius: 50%;\n",
              "      cursor: pointer;\n",
              "      display: none;\n",
              "      fill: #1967D2;\n",
              "      height: 32px;\n",
              "      padding: 0 0 0 0;\n",
              "      width: 32px;\n",
              "    }\n",
              "\n",
              "    .colab-df-convert:hover {\n",
              "      background-color: #E2EBFA;\n",
              "      box-shadow: 0px 1px 2px rgba(60, 64, 67, 0.3), 0px 1px 3px 1px rgba(60, 64, 67, 0.15);\n",
              "      fill: #174EA6;\n",
              "    }\n",
              "\n",
              "    .colab-df-buttons div {\n",
              "      margin-bottom: 4px;\n",
              "    }\n",
              "\n",
              "    [theme=dark] .colab-df-convert {\n",
              "      background-color: #3B4455;\n",
              "      fill: #D2E3FC;\n",
              "    }\n",
              "\n",
              "    [theme=dark] .colab-df-convert:hover {\n",
              "      background-color: #434B5C;\n",
              "      box-shadow: 0px 1px 3px 1px rgba(0, 0, 0, 0.15);\n",
              "      filter: drop-shadow(0px 1px 2px rgba(0, 0, 0, 0.3));\n",
              "      fill: #FFFFFF;\n",
              "    }\n",
              "  </style>\n",
              "\n",
              "    <script>\n",
              "      const buttonEl =\n",
              "        document.querySelector('#df-4fa8696f-53e4-4054-8ea9-773b25234a6c button.colab-df-convert');\n",
              "      buttonEl.style.display =\n",
              "        google.colab.kernel.accessAllowed ? 'block' : 'none';\n",
              "\n",
              "      async function convertToInteractive(key) {\n",
              "        const element = document.querySelector('#df-4fa8696f-53e4-4054-8ea9-773b25234a6c');\n",
              "        const dataTable =\n",
              "          await google.colab.kernel.invokeFunction('convertToInteractive',\n",
              "                                                    [key], {});\n",
              "        if (!dataTable) return;\n",
              "\n",
              "        const docLinkHtml = 'Like what you see? Visit the ' +\n",
              "          '<a target=\"_blank\" href=https://colab.research.google.com/notebooks/data_table.ipynb>data table notebook</a>'\n",
              "          + ' to learn more about interactive tables.';\n",
              "        element.innerHTML = '';\n",
              "        dataTable['output_type'] = 'display_data';\n",
              "        await google.colab.output.renderOutput(dataTable, element);\n",
              "        const docLink = document.createElement('div');\n",
              "        docLink.innerHTML = docLinkHtml;\n",
              "        element.appendChild(docLink);\n",
              "      }\n",
              "    </script>\n",
              "  </div>\n",
              "\n",
              "\n",
              "<div id=\"df-47bbab77-0280-4e83-91ac-31f2e90a9ed1\">\n",
              "  <button class=\"colab-df-quickchart\" onclick=\"quickchart('df-47bbab77-0280-4e83-91ac-31f2e90a9ed1')\"\n",
              "            title=\"Suggest charts\"\n",
              "            style=\"display:none;\">\n",
              "\n",
              "<svg xmlns=\"http://www.w3.org/2000/svg\" height=\"24px\"viewBox=\"0 0 24 24\"\n",
              "     width=\"24px\">\n",
              "    <g>\n",
              "        <path d=\"M19 3H5c-1.1 0-2 .9-2 2v14c0 1.1.9 2 2 2h14c1.1 0 2-.9 2-2V5c0-1.1-.9-2-2-2zM9 17H7v-7h2v7zm4 0h-2V7h2v10zm4 0h-2v-4h2v4z\"/>\n",
              "    </g>\n",
              "</svg>\n",
              "  </button>\n",
              "\n",
              "<style>\n",
              "  .colab-df-quickchart {\n",
              "      --bg-color: #E8F0FE;\n",
              "      --fill-color: #1967D2;\n",
              "      --hover-bg-color: #E2EBFA;\n",
              "      --hover-fill-color: #174EA6;\n",
              "      --disabled-fill-color: #AAA;\n",
              "      --disabled-bg-color: #DDD;\n",
              "  }\n",
              "\n",
              "  [theme=dark] .colab-df-quickchart {\n",
              "      --bg-color: #3B4455;\n",
              "      --fill-color: #D2E3FC;\n",
              "      --hover-bg-color: #434B5C;\n",
              "      --hover-fill-color: #FFFFFF;\n",
              "      --disabled-bg-color: #3B4455;\n",
              "      --disabled-fill-color: #666;\n",
              "  }\n",
              "\n",
              "  .colab-df-quickchart {\n",
              "    background-color: var(--bg-color);\n",
              "    border: none;\n",
              "    border-radius: 50%;\n",
              "    cursor: pointer;\n",
              "    display: none;\n",
              "    fill: var(--fill-color);\n",
              "    height: 32px;\n",
              "    padding: 0;\n",
              "    width: 32px;\n",
              "  }\n",
              "\n",
              "  .colab-df-quickchart:hover {\n",
              "    background-color: var(--hover-bg-color);\n",
              "    box-shadow: 0 1px 2px rgba(60, 64, 67, 0.3), 0 1px 3px 1px rgba(60, 64, 67, 0.15);\n",
              "    fill: var(--button-hover-fill-color);\n",
              "  }\n",
              "\n",
              "  .colab-df-quickchart-complete:disabled,\n",
              "  .colab-df-quickchart-complete:disabled:hover {\n",
              "    background-color: var(--disabled-bg-color);\n",
              "    fill: var(--disabled-fill-color);\n",
              "    box-shadow: none;\n",
              "  }\n",
              "\n",
              "  .colab-df-spinner {\n",
              "    border: 2px solid var(--fill-color);\n",
              "    border-color: transparent;\n",
              "    border-bottom-color: var(--fill-color);\n",
              "    animation:\n",
              "      spin 1s steps(1) infinite;\n",
              "  }\n",
              "\n",
              "  @keyframes spin {\n",
              "    0% {\n",
              "      border-color: transparent;\n",
              "      border-bottom-color: var(--fill-color);\n",
              "      border-left-color: var(--fill-color);\n",
              "    }\n",
              "    20% {\n",
              "      border-color: transparent;\n",
              "      border-left-color: var(--fill-color);\n",
              "      border-top-color: var(--fill-color);\n",
              "    }\n",
              "    30% {\n",
              "      border-color: transparent;\n",
              "      border-left-color: var(--fill-color);\n",
              "      border-top-color: var(--fill-color);\n",
              "      border-right-color: var(--fill-color);\n",
              "    }\n",
              "    40% {\n",
              "      border-color: transparent;\n",
              "      border-right-color: var(--fill-color);\n",
              "      border-top-color: var(--fill-color);\n",
              "    }\n",
              "    60% {\n",
              "      border-color: transparent;\n",
              "      border-right-color: var(--fill-color);\n",
              "    }\n",
              "    80% {\n",
              "      border-color: transparent;\n",
              "      border-right-color: var(--fill-color);\n",
              "      border-bottom-color: var(--fill-color);\n",
              "    }\n",
              "    90% {\n",
              "      border-color: transparent;\n",
              "      border-bottom-color: var(--fill-color);\n",
              "    }\n",
              "  }\n",
              "</style>\n",
              "\n",
              "  <script>\n",
              "    async function quickchart(key) {\n",
              "      const quickchartButtonEl =\n",
              "        document.querySelector('#' + key + ' button');\n",
              "      quickchartButtonEl.disabled = true;  // To prevent multiple clicks.\n",
              "      quickchartButtonEl.classList.add('colab-df-spinner');\n",
              "      try {\n",
              "        const charts = await google.colab.kernel.invokeFunction(\n",
              "            'suggestCharts', [key], {});\n",
              "      } catch (error) {\n",
              "        console.error('Error during call to suggestCharts:', error);\n",
              "      }\n",
              "      quickchartButtonEl.classList.remove('colab-df-spinner');\n",
              "      quickchartButtonEl.classList.add('colab-df-quickchart-complete');\n",
              "    }\n",
              "    (() => {\n",
              "      let quickchartButtonEl =\n",
              "        document.querySelector('#df-47bbab77-0280-4e83-91ac-31f2e90a9ed1 button');\n",
              "      quickchartButtonEl.style.display =\n",
              "        google.colab.kernel.accessAllowed ? 'block' : 'none';\n",
              "    })();\n",
              "  </script>\n",
              "</div>\n",
              "    </div>\n",
              "  </div>\n"
            ],
            "application/vnd.google.colaboratory.intrinsic+json": {
              "type": "dataframe",
              "variable_name": "df",
              "summary": "{\n  \"name\": \"df\",\n  \"rows\": 22000,\n  \"fields\": [\n    {\n      \"column\": \"Text\",\n      \"properties\": {\n        \"dtype\": \"string\",\n        \"num_unique_values\": 21859,\n        \"samples\": [\n          \"semua kucing dalam genus ini berbagi nenek moyang yang sama yang mungkin hidup sekitar \\u2013 juta tahun yang lalu di asia hubungan yang tepat dalam felidae dekat tetapi masih belum pasti misalnya kucing gunung cina kadang-kadang diklasifikasikan dengan nama felis silvestris bieti sebagai upaspesies kucing liar seperti varietas afrika utara f s lybica\",\n          \"not completely happy with their temporary name in the summer of  a sign caught citos eye just outside the freestate town of kroonstad pointing to a little town called \\\"wonderboom\\\" in  danny de wet left the band and was replaced by garth mcleod formerly of respected south african rock band sugardrive in  garth mcleod was killed in a motorcycle accident and was replaced by jonathan bell\",\n          \"tetraglenes bucculenta \\u00e4r en skalbaggsart som beskrevs av charles joseph gahan  tetraglenes bucculenta ing\\u00e5r i sl\\u00e4ktet tetraglenes och familjen l\\u00e5nghorningar\"\n        ],\n        \"semantic_type\": \"\",\n        \"description\": \"\"\n      }\n    },\n    {\n      \"column\": \"language\",\n      \"properties\": {\n        \"dtype\": \"category\",\n        \"num_unique_values\": 22,\n        \"samples\": [\n          \"Estonian\",\n          \"Korean\",\n          \"Urdu\"\n        ],\n        \"semantic_type\": \"\",\n        \"description\": \"\"\n      }\n    }\n  ]\n}"
            }
          },
          "metadata": {},
          "execution_count": 2
        }
      ],
      "source": [
        "#Import to ML (scikit-learn), Data (Pandas) and Math (NumPy) Libraries\n",
        "import pandas as pd\n",
        "import numpy as np\n",
        "from sklearn.model_selection import train_test_split\n",
        "from sklearn.feature_extraction.text import CountVectorizer, TfidfTransformer\n",
        "\n",
        "#Data Loading from 'Kaggle'\n",
        "df = pd.read_csv('../content/language_detection.csv')\n",
        "\n",
        "df.head(5)"
      ]
    },
    {
      "cell_type": "code",
      "source": [
        "!apt install fonts-ipafont-gothic"
      ],
      "metadata": {
        "colab": {
          "base_uri": "https://localhost:8080/"
        },
        "id": "-qRWvekTcZO6",
        "outputId": "16c5fe7e-ad81-48f6-bb8e-fb01cc414074"
      },
      "id": "-qRWvekTcZO6",
      "execution_count": 1,
      "outputs": [
        {
          "output_type": "stream",
          "name": "stdout",
          "text": [
            "Reading package lists... Done\n",
            "Building dependency tree... Done\n",
            "Reading state information... Done\n",
            "The following additional packages will be installed:\n",
            "  fonts-ipafont-mincho\n",
            "The following NEW packages will be installed:\n",
            "  fonts-ipafont-gothic fonts-ipafont-mincho\n",
            "0 upgraded, 2 newly installed, 0 to remove and 38 not upgraded.\n",
            "Need to get 8,237 kB of archives.\n",
            "After this operation, 28.7 MB of additional disk space will be used.\n",
            "Get:1 http://archive.ubuntu.com/ubuntu jammy/universe amd64 fonts-ipafont-gothic all 00303-21ubuntu1 [3,513 kB]\n",
            "Get:2 http://archive.ubuntu.com/ubuntu jammy/universe amd64 fonts-ipafont-mincho all 00303-21ubuntu1 [4,724 kB]\n",
            "Fetched 8,237 kB in 0s (20.9 MB/s)\n",
            "Selecting previously unselected package fonts-ipafont-gothic.\n",
            "(Reading database ... 121752 files and directories currently installed.)\n",
            "Preparing to unpack .../fonts-ipafont-gothic_00303-21ubuntu1_all.deb ...\n",
            "Unpacking fonts-ipafont-gothic (00303-21ubuntu1) ...\n",
            "Selecting previously unselected package fonts-ipafont-mincho.\n",
            "Preparing to unpack .../fonts-ipafont-mincho_00303-21ubuntu1_all.deb ...\n",
            "Unpacking fonts-ipafont-mincho (00303-21ubuntu1) ...\n",
            "Setting up fonts-ipafont-mincho (00303-21ubuntu1) ...\n",
            "update-alternatives: using /usr/share/fonts/opentype/ipafont-mincho/ipam.ttf to provide /usr/share/fonts/truetype/fonts-japanese-mincho.ttf (fonts-japanese-mincho.ttf) in auto mode\n",
            "Setting up fonts-ipafont-gothic (00303-21ubuntu1) ...\n",
            "update-alternatives: using /usr/share/fonts/opentype/ipafont-gothic/ipag.ttf to provide /usr/share/fonts/truetype/fonts-japanese-gothic.ttf (fonts-japanese-gothic.ttf) in auto mode\n",
            "Processing triggers for fontconfig (2.13.1-4.2ubuntu5) ...\n"
          ]
        }
      ]
    },
    {
      "cell_type": "markdown",
      "id": "debc085e",
      "metadata": {
        "id": "debc085e",
        "papermill": {
          "duration": 0.014722,
          "end_time": "2022-05-02T17:56:10.684218",
          "exception": false,
          "start_time": "2022-05-02T17:56:10.669496",
          "status": "completed"
        },
        "tags": []
      },
      "source": [
        "### Value Counts of Language Label"
      ]
    },
    {
      "cell_type": "code",
      "execution_count": 3,
      "id": "54c2a595",
      "metadata": {
        "execution": {
          "iopub.execute_input": "2022-05-02T17:56:10.716086Z",
          "iopub.status.busy": "2022-05-02T17:56:10.715780Z",
          "iopub.status.idle": "2022-05-02T17:56:10.732322Z",
          "shell.execute_reply": "2022-05-02T17:56:10.731572Z"
        },
        "id": "54c2a595",
        "outputId": "47f63774-39db-4e4c-db82-90685283bc5a",
        "papermill": {
          "duration": 0.035026,
          "end_time": "2022-05-02T17:56:10.734298",
          "exception": false,
          "start_time": "2022-05-02T17:56:10.699272",
          "status": "completed"
        },
        "tags": [],
        "colab": {
          "base_uri": "https://localhost:8080/"
        }
      },
      "outputs": [
        {
          "output_type": "execute_result",
          "data": {
            "text/plain": [
              "Estonian      1000\n",
              "Swedish       1000\n",
              "English       1000\n",
              "Russian       1000\n",
              "Romanian      1000\n",
              "Persian       1000\n",
              "Pushto        1000\n",
              "Spanish       1000\n",
              "Hindi         1000\n",
              "Korean        1000\n",
              "Chinese       1000\n",
              "French        1000\n",
              "Portugese     1000\n",
              "Indonesian    1000\n",
              "Urdu          1000\n",
              "Latin         1000\n",
              "Turkish       1000\n",
              "Japanese      1000\n",
              "Dutch         1000\n",
              "Tamil         1000\n",
              "Thai          1000\n",
              "Arabic        1000\n",
              "Name: language, dtype: int64"
            ]
          },
          "metadata": {},
          "execution_count": 3
        }
      ],
      "source": [
        "df[\"language\"].value_counts()"
      ]
    },
    {
      "cell_type": "markdown",
      "id": "9564ffcc",
      "metadata": {
        "id": "9564ffcc",
        "papermill": {
          "duration": 0.015044,
          "end_time": "2022-05-02T17:56:10.765564",
          "exception": false,
          "start_time": "2022-05-02T17:56:10.750520",
          "status": "completed"
        },
        "tags": []
      },
      "source": [
        "### Value Counts of Text Feature"
      ]
    },
    {
      "cell_type": "code",
      "execution_count": 4,
      "id": "3766f704",
      "metadata": {
        "execution": {
          "iopub.execute_input": "2022-05-02T17:56:10.798611Z",
          "iopub.status.busy": "2022-05-02T17:56:10.797628Z",
          "iopub.status.idle": "2022-05-02T17:56:10.834200Z",
          "shell.execute_reply": "2022-05-02T17:56:10.833295Z"
        },
        "id": "3766f704",
        "outputId": "fa4356d6-15e8-40ff-b409-53f4df0f871e",
        "papermill": {
          "duration": 0.055235,
          "end_time": "2022-05-02T17:56:10.836148",
          "exception": false,
          "start_time": "2022-05-02T17:56:10.780913",
          "status": "completed"
        },
        "tags": [],
        "colab": {
          "base_uri": "https://localhost:8080/"
        }
      },
      "outputs": [
        {
          "output_type": "execute_result",
          "data": {
            "text/plain": [
              "haec commentatio automatice praeparata res astronomicas colligit excerptas e pagina [] sitús small-body database quem elaboraverunt nasa et jpl apud institutum technologiae californiense                                                                                                                                                                                                                                                                                                                                                                                                                                                                                                                                                                                                                                                                                                                                                                                    48\n",
              "இக்கோயில் முதன்மைத் திருக்கோயில் என்ற வகைப்பாட்டில் இந்து அறநிலையத்துறையின் கட்டுப்பாட்டில் உள்ளது பரம்பரை அல்லாத அறங்காவலர் அமைப்பால் நிர்வகிக்கப்படுகிறது                                                                                                                                                                                                                                                                                                                                                                                                                                                                                                                                                                                                                                                                                                                                                                                                                   17\n",
              "bisby fa roskov yr orrell tm nicolson d paglinawan le bailly n kirk pm bourgoin t baillargeon g ouvrard d red  \"species   itis catalogue of life  annual checklist\" species  reading uk diakses pada  september                                                                                                                                                                                                                                                                                                                                                                                                                                                                                                                                                                                                                                                                                                                                                               12\n",
              "seperti asteroid pada umumnya asteroid ini terbentuk dari nebula matahari primordial sebagai pecahan planetisimal sesuatu di nebula matahari muda yang tidak cukup besar untuk berubah menjadi planet                                                                                                                                                                                                                                                                                                                                                                                                                                                                                                                                                                                                                                                                                                                                                                          7\n",
              "lévolution du nombre dhabitants est connue à travers les recensements de la population effectués dans la commune depuis  à partir de  les populations légales des communes sont publiées annuellement par linsee le recensement repose désormais sur une collecte dinformation annuelle concernant successivement tous les territoires communaux au cours dune période de cinq ans pour les communes de moins de   habitants une enquête de recensement portant sur toute la population est réalisée tous les cinq ans les populations légales des années intermédiaires étant quant à elles estimées par interpolation ou extrapolation pour la commune le premier recensement exhaustif entrant dans le cadre du nouveau dispositif a été réalisé en                                                                                                                                                                                                                         7\n",
              "                                                                                                                                                                                                                                                                                                                                                                                                                                                                                                                                                                                                                                                                                                                                                                                                                                                                                                                                                                              ..\n",
              "in  zette hij het project swiss piano op waarin pianowerk van hedendaagse zwitserse componisten uitgevoerd wordt het project resulteerde onder andere in een cd met nieuw aan wong opgedragen werk van daniel füter hans ulrich lehmann laurent mettraux isabel mundry jürg wyttenbach gérard zinsstag en alfred zimmerlin                                                                                                                                                                                                                                                                                                                                                                                                                                                                                                                                                                                                                                                     1\n",
              "nacido en duisburgo alemania caninenberg estudió en los primeros años  en la folkwang universität der künste de essen y tras graduarse actuó por vez primera en teatros de krefeld gießen y wuppertal tras servir durante la segunda guerra mundial hubo de cumplir cautiverio y en  retomó su carrera artística de vuelta en wuppertal colaboró en la reconstrucción teatral y en  fue a trabajar a la ópera estatal de stuttgart en  fue contratado por el prestigioso actor y director hans schweikart para actuar en el teatro de cámara de múnich pero pronto se trasladó a düsseldorf boleslaw barlog contó con él para actuar en el staatlichen berliner bühnen y en fráncfort del meno actuó junto a lola müthel con la que se casó en                                                                                                                                                                                                                                 1\n",
              "بچوں کی سائنس میں آسان مقالہ  انسانی دماغ* یہ مضمون عمومی طور پر دماغ کے بارے میں ہے۔ بالخصوص انسانی دماغ کے بارے میں دیکھیےدماغ انسانیدماغ دراصل مرکزی عصبی نظام کا ایک ایسا حصہ ہوتا ہے جسمیں عصبی نظام کے تمام اعلیٰ مراکز پائے جاتے ہیں۔ اکثر جانداروں میں دماغ سر میں موجود ایک ہڈی کے صندوق میں محفوظ ہوتا ہے جسے کاسہ سر یا کھوپڑی کہتے ہیں اور چار بنیادی حسیں بصارت سماعت ذائقہ اور سونگھنا اسکے بالکل قرب و جوار میں ملتی ہیں۔ فقاریہ جانداروں مثلا انسان کے عصبی نظام میں تو دماغ پایاجاتا ہے مگر غیرفقاریہ جانداروں میں عصبی نظام دراصل عصبی عقدوں یا یوں کہـ لیں کہ عصبی خلیات کی چھوٹی چھوٹی گرھوں پر مشتمل ہوتا ہے۔ دماغ ایک انتہائی پیچیدہ عضو ہے اس بات کا اندازا یوں لگایا جاسکتا ہے کہ ایک دماغ میں تقریباًً  ارب  ایک کھرب خلیات پائے جاتے ہیں یہاں یہ بات واضع رہے کہ یہ صرف ان خلیات کی تعداد ہے جنکو عصبون یا neuron کہا جاتا ہے۔ اور پھر ان  ارب خلیات میں سے بھی ہر ایک  عصبی تاروں یا ریشوں کے ذریعہ تقریباً  دیگر خلیات کے ساتھ رابطے بناتا ہے۔     1\n",
              "바그너의 행운은 년에 바이에른 왕국의 루트비히 세가 나이 세로 즉위하자 극적인 계기를 맞았다 젊은 왕은 어린 시절부터 바그너의 오페라의 열렬한 숭배자였기에 작곡가를 뮌헨으로 데려왔다 그는 바그너의 상당한 빚을 해결해 주었고 그의 새 오페라가 상연될 계획을 세웠다 리허설에서의 각고의 어려움 끝에 트리스탄과 이졸데는 뮌헨 왕립 극장에서 년 월 일에 큰 성공을 거두며 초연되었다                                                                                                                                                                                                                                                                                                                                                                                                                                                                                                                                                                                                                                                                                                                                                              1\n",
              " aprilie sonda spațială messenger a nasa și-a încheiat misiunea de studiu de  ani prăbușindu-se pe suprafața planetei mercur sonda a rămas fără combustibil fiind împinsă de gravitația solară din ce în ce mai aproape de mercur                                                                                                                                                                                                                                                                                                                                                                                                                                                                                                                                                                                                                                                                                                                                              1\n",
              "Name: Text, Length: 21859, dtype: int64"
            ]
          },
          "metadata": {},
          "execution_count": 4
        }
      ],
      "source": [
        "df[\"Text\"].value_counts()"
      ]
    },
    {
      "cell_type": "markdown",
      "id": "905f4345",
      "metadata": {
        "id": "905f4345",
        "papermill": {
          "duration": 0.015571,
          "end_time": "2022-05-02T17:56:10.867940",
          "exception": false,
          "start_time": "2022-05-02T17:56:10.852369",
          "status": "completed"
        },
        "tags": []
      },
      "source": [
        "> # *Process*\n",
        "> * **Import to ML (scikit-learn) Libraries**\n",
        "> * **Data Preprocessing**\n",
        "> * **NLP system entegration to Data**\n",
        "> * **Model Creating**"
      ]
    },
    {
      "cell_type": "code",
      "execution_count": 5,
      "id": "e0db95ad",
      "metadata": {
        "execution": {
          "iopub.execute_input": "2022-05-02T17:56:10.901571Z",
          "iopub.status.busy": "2022-05-02T17:56:10.901243Z",
          "iopub.status.idle": "2022-05-02T17:56:27.509117Z",
          "shell.execute_reply": "2022-05-02T17:56:27.508164Z"
        },
        "id": "e0db95ad",
        "outputId": "1828874a-e2b9-4a0a-f878-8e038e53e680",
        "papermill": {
          "duration": 16.629206,
          "end_time": "2022-05-02T17:56:27.513136",
          "exception": false,
          "start_time": "2022-05-02T17:56:10.883930",
          "status": "completed"
        },
        "tags": [],
        "colab": {
          "base_uri": "https://localhost:8080/",
          "height": 74
        }
      },
      "outputs": [
        {
          "output_type": "execute_result",
          "data": {
            "text/plain": [
              "RidgeClassifier()"
            ],
            "text/html": [
              "<style>#sk-container-id-1 {color: black;background-color: white;}#sk-container-id-1 pre{padding: 0;}#sk-container-id-1 div.sk-toggleable {background-color: white;}#sk-container-id-1 label.sk-toggleable__label {cursor: pointer;display: block;width: 100%;margin-bottom: 0;padding: 0.3em;box-sizing: border-box;text-align: center;}#sk-container-id-1 label.sk-toggleable__label-arrow:before {content: \"▸\";float: left;margin-right: 0.25em;color: #696969;}#sk-container-id-1 label.sk-toggleable__label-arrow:hover:before {color: black;}#sk-container-id-1 div.sk-estimator:hover label.sk-toggleable__label-arrow:before {color: black;}#sk-container-id-1 div.sk-toggleable__content {max-height: 0;max-width: 0;overflow: hidden;text-align: left;background-color: #f0f8ff;}#sk-container-id-1 div.sk-toggleable__content pre {margin: 0.2em;color: black;border-radius: 0.25em;background-color: #f0f8ff;}#sk-container-id-1 input.sk-toggleable__control:checked~div.sk-toggleable__content {max-height: 200px;max-width: 100%;overflow: auto;}#sk-container-id-1 input.sk-toggleable__control:checked~label.sk-toggleable__label-arrow:before {content: \"▾\";}#sk-container-id-1 div.sk-estimator input.sk-toggleable__control:checked~label.sk-toggleable__label {background-color: #d4ebff;}#sk-container-id-1 div.sk-label input.sk-toggleable__control:checked~label.sk-toggleable__label {background-color: #d4ebff;}#sk-container-id-1 input.sk-hidden--visually {border: 0;clip: rect(1px 1px 1px 1px);clip: rect(1px, 1px, 1px, 1px);height: 1px;margin: -1px;overflow: hidden;padding: 0;position: absolute;width: 1px;}#sk-container-id-1 div.sk-estimator {font-family: monospace;background-color: #f0f8ff;border: 1px dotted black;border-radius: 0.25em;box-sizing: border-box;margin-bottom: 0.5em;}#sk-container-id-1 div.sk-estimator:hover {background-color: #d4ebff;}#sk-container-id-1 div.sk-parallel-item::after {content: \"\";width: 100%;border-bottom: 1px solid gray;flex-grow: 1;}#sk-container-id-1 div.sk-label:hover label.sk-toggleable__label {background-color: #d4ebff;}#sk-container-id-1 div.sk-serial::before {content: \"\";position: absolute;border-left: 1px solid gray;box-sizing: border-box;top: 0;bottom: 0;left: 50%;z-index: 0;}#sk-container-id-1 div.sk-serial {display: flex;flex-direction: column;align-items: center;background-color: white;padding-right: 0.2em;padding-left: 0.2em;position: relative;}#sk-container-id-1 div.sk-item {position: relative;z-index: 1;}#sk-container-id-1 div.sk-parallel {display: flex;align-items: stretch;justify-content: center;background-color: white;position: relative;}#sk-container-id-1 div.sk-item::before, #sk-container-id-1 div.sk-parallel-item::before {content: \"\";position: absolute;border-left: 1px solid gray;box-sizing: border-box;top: 0;bottom: 0;left: 50%;z-index: -1;}#sk-container-id-1 div.sk-parallel-item {display: flex;flex-direction: column;z-index: 1;position: relative;background-color: white;}#sk-container-id-1 div.sk-parallel-item:first-child::after {align-self: flex-end;width: 50%;}#sk-container-id-1 div.sk-parallel-item:last-child::after {align-self: flex-start;width: 50%;}#sk-container-id-1 div.sk-parallel-item:only-child::after {width: 0;}#sk-container-id-1 div.sk-dashed-wrapped {border: 1px dashed gray;margin: 0 0.4em 0.5em 0.4em;box-sizing: border-box;padding-bottom: 0.4em;background-color: white;}#sk-container-id-1 div.sk-label label {font-family: monospace;font-weight: bold;display: inline-block;line-height: 1.2em;}#sk-container-id-1 div.sk-label-container {text-align: center;}#sk-container-id-1 div.sk-container {/* jupyter's `normalize.less` sets `[hidden] { display: none; }` but bootstrap.min.css set `[hidden] { display: none !important; }` so we also need the `!important` here to be able to override the default hidden behavior on the sphinx rendered scikit-learn.org. See: https://github.com/scikit-learn/scikit-learn/issues/21755 */display: inline-block !important;position: relative;}#sk-container-id-1 div.sk-text-repr-fallback {display: none;}</style><div id=\"sk-container-id-1\" class=\"sk-top-container\"><div class=\"sk-text-repr-fallback\"><pre>RidgeClassifier()</pre><b>In a Jupyter environment, please rerun this cell to show the HTML representation or trust the notebook. <br />On GitHub, the HTML representation is unable to render, please try loading this page with nbviewer.org.</b></div><div class=\"sk-container\" hidden><div class=\"sk-item\"><div class=\"sk-estimator sk-toggleable\"><input class=\"sk-toggleable__control sk-hidden--visually\" id=\"sk-estimator-id-1\" type=\"checkbox\" checked><label for=\"sk-estimator-id-1\" class=\"sk-toggleable__label sk-toggleable__label-arrow\">RidgeClassifier</label><div class=\"sk-toggleable__content\"><pre>RidgeClassifier()</pre></div></div></div></div></div>"
            ]
          },
          "metadata": {},
          "execution_count": 5
        }
      ],
      "source": [
        "#Import to ML (scikit-learn) Libraries\n",
        "from sklearn.linear_model import RidgeClassifier #RidgeClassifier\n",
        "\n",
        "#Data Preprocessing\n",
        "X_train, X_test, y_train, y_test = train_test_split(df.Text,\n",
        "                                                    df.language,\n",
        "                                                    test_size=0.325000000000000001,\n",
        "                                                    random_state=2551,\n",
        "                                                    shuffle=True)\n",
        "#NLP system entegration to Data\n",
        "X_CountVectorizer = CountVectorizer(stop_words='english')\n",
        "\n",
        "X_train_counts = X_CountVectorizer.fit_transform(X_train)\n",
        "\n",
        "X_TfidfTransformer = TfidfTransformer()\n",
        "\n",
        "X_train_tfidf = X_TfidfTransformer.fit_transform(X_train_counts)\n",
        "\n",
        "#Model Creating\n",
        "model = RidgeClassifier()\n",
        "\n",
        "model.fit(X_train_tfidf, y_train)"
      ]
    },
    {
      "cell_type": "markdown",
      "id": "c72de929",
      "metadata": {
        "id": "c72de929",
        "papermill": {
          "duration": 0.032276,
          "end_time": "2022-05-02T17:56:27.575922",
          "exception": false,
          "start_time": "2022-05-02T17:56:27.543646",
          "status": "completed"
        },
        "tags": []
      },
      "source": [
        "> # *Model Accuracy Score*\n",
        "> * **model.score([Test_data])**"
      ]
    },
    {
      "cell_type": "code",
      "execution_count": 6,
      "id": "c7dc8090",
      "metadata": {
        "execution": {
          "iopub.execute_input": "2022-05-02T17:56:27.627582Z",
          "iopub.status.busy": "2022-05-02T17:56:27.627294Z",
          "iopub.status.idle": "2022-05-02T17:56:28.252822Z",
          "shell.execute_reply": "2022-05-02T17:56:28.251998Z"
        },
        "id": "c7dc8090",
        "outputId": "2d9512d4-3f26-4a97-b23c-2db9e1ae8f0b",
        "papermill": {
          "duration": 0.646868,
          "end_time": "2022-05-02T17:56:28.255014",
          "exception": false,
          "start_time": "2022-05-02T17:56:27.608146",
          "status": "completed"
        },
        "tags": [],
        "colab": {
          "base_uri": "https://localhost:8080/"
        }
      },
      "outputs": [
        {
          "output_type": "execute_result",
          "data": {
            "text/plain": [
              "0.9651748251748252"
            ]
          },
          "metadata": {},
          "execution_count": 6
        }
      ],
      "source": [
        "model.score(X_CountVectorizer.transform(X_test),y_test)"
      ]
    },
    {
      "cell_type": "markdown",
      "id": "6974d967",
      "metadata": {
        "id": "6974d967",
        "papermill": {
          "duration": 0.017828,
          "end_time": "2022-05-02T17:56:28.290678",
          "exception": false,
          "start_time": "2022-05-02T17:56:28.272850",
          "status": "completed"
        },
        "tags": []
      },
      "source": [
        "> # *Prediction*"
      ]
    },
    {
      "cell_type": "markdown",
      "id": "21b21585",
      "metadata": {
        "papermill": {
          "duration": 0.01658,
          "end_time": "2022-05-02T17:56:28.324273",
          "exception": false,
          "start_time": "2022-05-02T17:56:28.307693",
          "status": "completed"
        },
        "tags": [],
        "id": "21b21585"
      },
      "source": [
        "**English**"
      ]
    },
    {
      "cell_type": "code",
      "execution_count": 10,
      "id": "60f4c92c",
      "metadata": {
        "execution": {
          "iopub.execute_input": "2022-05-02T17:56:28.361069Z",
          "iopub.status.busy": "2022-05-02T17:56:28.360710Z",
          "iopub.status.idle": "2022-05-02T17:56:28.382375Z",
          "shell.execute_reply": "2022-05-02T17:56:28.381457Z"
        },
        "id": "60f4c92c",
        "outputId": "8e179c52-c339-4ca2-c749-8d9a71d9a1c9",
        "papermill": {
          "duration": 0.041774,
          "end_time": "2022-05-02T17:56:28.384496",
          "exception": false,
          "start_time": "2022-05-02T17:56:28.342722",
          "status": "completed"
        },
        "tags": [],
        "colab": {
          "base_uri": "https://localhost:8080/",
          "height": 35
        }
      },
      "outputs": [
        {
          "output_type": "execute_result",
          "data": {
            "text/plain": [
              "'Prediction is English'"
            ],
            "application/vnd.google.colaboratory.intrinsic+json": {
              "type": "string"
            }
          },
          "metadata": {},
          "execution_count": 10
        }
      ],
      "source": [
        "#Data of Prediction\n",
        "text = \"\"\"I quite like him. I'm so in love with him and my heart flutters when I see him.\"\"\"\n",
        "\n",
        "text = [text]\n",
        "\n",
        "text_counts = X_CountVectorizer.transform(text)\n",
        "\n",
        "#Prediction Processing\n",
        "prediction = model.predict(text_counts)\n",
        "\n",
        "f\"Prediction is {prediction[0]}\""
      ]
    },
    {
      "cell_type": "markdown",
      "id": "43b1b959",
      "metadata": {
        "papermill": {
          "duration": 0.016935,
          "end_time": "2022-05-02T17:56:28.418858",
          "exception": false,
          "start_time": "2022-05-02T17:56:28.401923",
          "status": "completed"
        },
        "tags": [],
        "id": "43b1b959"
      },
      "source": [
        "**Turkish**"
      ]
    },
    {
      "cell_type": "code",
      "execution_count": 11,
      "id": "1e16bb2b",
      "metadata": {
        "execution": {
          "iopub.execute_input": "2022-05-02T17:56:28.455820Z",
          "iopub.status.busy": "2022-05-02T17:56:28.455554Z",
          "iopub.status.idle": "2022-05-02T17:56:28.477790Z",
          "shell.execute_reply": "2022-05-02T17:56:28.476717Z"
        },
        "papermill": {
          "duration": 0.043356,
          "end_time": "2022-05-02T17:56:28.480188",
          "exception": false,
          "start_time": "2022-05-02T17:56:28.436832",
          "status": "completed"
        },
        "tags": [],
        "colab": {
          "base_uri": "https://localhost:8080/",
          "height": 35
        },
        "id": "1e16bb2b",
        "outputId": "4a2ddc0e-f710-4b0c-c738-ac5b7cc62d7a"
      },
      "outputs": [
        {
          "output_type": "execute_result",
          "data": {
            "text/plain": [
              "'Prediction is Turkish'"
            ],
            "application/vnd.google.colaboratory.intrinsic+json": {
              "type": "string"
            }
          },
          "metadata": {},
          "execution_count": 11
        }
      ],
      "source": [
        "#Data of Prediction\n",
        "text = \"\"\"Türkiye Cumhuriyeti güçlüdür ve ilelebet baki kalacaktır.\"\"\"\n",
        "\n",
        "text = [text]\n",
        "\n",
        "text_counts = X_CountVectorizer.transform(text)\n",
        "\n",
        "#Prediction Processing\n",
        "prediction = model.predict(text_counts)\n",
        "\n",
        "f\"Prediction is {prediction[0]}\""
      ]
    },
    {
      "cell_type": "markdown",
      "source": [
        "**Korean**"
      ],
      "metadata": {
        "id": "FT0iCIgFd8nm"
      },
      "id": "FT0iCIgFd8nm"
    },
    {
      "cell_type": "code",
      "source": [
        "#Data of Prediction\n",
        "text = \"\"\"그를 정말 좋아해요. 그에게 정말로 반했고, 그를 보면 내 마음이 설레어요.\"\"\"\n",
        "\n",
        "text = [text]\n",
        "\n",
        "text_counts = X_CountVectorizer.transform(text)\n",
        "\n",
        "#Prediction Processing\n",
        "prediction = model.predict(text_counts)\n",
        "\n",
        "f\"Prediction is {prediction[0]}\""
      ],
      "metadata": {
        "colab": {
          "base_uri": "https://localhost:8080/",
          "height": 35
        },
        "id": "uV9S6D-ed8Ag",
        "outputId": "540aefda-4a87-4994-cb6f-deaf521977ec"
      },
      "id": "uV9S6D-ed8Ag",
      "execution_count": 12,
      "outputs": [
        {
          "output_type": "execute_result",
          "data": {
            "text/plain": [
              "'Prediction is Korean'"
            ],
            "application/vnd.google.colaboratory.intrinsic+json": {
              "type": "string"
            }
          },
          "metadata": {},
          "execution_count": 12
        }
      ]
    },
    {
      "cell_type": "markdown",
      "source": [
        "**Chinese**"
      ],
      "metadata": {
        "id": "CyqMzrtqgLVA"
      },
      "id": "CyqMzrtqgLVA"
    },
    {
      "cell_type": "code",
      "source": [
        "#Data of Prediction\n",
        "text = \"\"\"我很喜欢他。我深深爱着他，每次见到他，我的心都会怦怦跳动.\"\"\"\n",
        "\n",
        "text = [text]\n",
        "\n",
        "text_counts = X_CountVectorizer.transform(text)\n",
        "\n",
        "#Prediction Processing\n",
        "prediction = model.predict(text_counts)\n",
        "\n",
        "f\"Prediction is {prediction[0]}\""
      ],
      "metadata": {
        "colab": {
          "base_uri": "https://localhost:8080/",
          "height": 35
        },
        "id": "V8MFiMhmgW9l",
        "outputId": "748720cf-474a-4f5d-b966-d40fdffb85bb"
      },
      "id": "V8MFiMhmgW9l",
      "execution_count": 14,
      "outputs": [
        {
          "output_type": "execute_result",
          "data": {
            "text/plain": [
              "'Prediction is Chinese'"
            ],
            "application/vnd.google.colaboratory.intrinsic+json": {
              "type": "string"
            }
          },
          "metadata": {},
          "execution_count": 14
        }
      ]
    },
    {
      "cell_type": "markdown",
      "source": [
        "**Spanish**"
      ],
      "metadata": {
        "id": "7FvQ2uwqg6gJ"
      },
      "id": "7FvQ2uwqg6gJ"
    },
    {
      "cell_type": "code",
      "source": [
        "#Data of Prediction\n",
        "text = \"\"\"Me gusta bastante. Estoy tan enamorado de él y mi corazón late con fuerza cuando lo veo.\"\"\"\n",
        "\n",
        "text = [text]\n",
        "\n",
        "text_counts = X_CountVectorizer.transform(text)\n",
        "\n",
        "#Prediction Processing\n",
        "prediction = model.predict(text_counts)\n",
        "\n",
        "f\"Prediction is {prediction[0]}\""
      ],
      "metadata": {
        "colab": {
          "base_uri": "https://localhost:8080/",
          "height": 35
        },
        "id": "xp-QLx7Fg8RO",
        "outputId": "bd1b3896-f2c2-4546-bbd2-2d0229468627"
      },
      "id": "xp-QLx7Fg8RO",
      "execution_count": 15,
      "outputs": [
        {
          "output_type": "execute_result",
          "data": {
            "text/plain": [
              "'Prediction is Spanish'"
            ],
            "application/vnd.google.colaboratory.intrinsic+json": {
              "type": "string"
            }
          },
          "metadata": {},
          "execution_count": 15
        }
      ]
    },
    {
      "cell_type": "markdown",
      "source": [
        "**bold text**"
      ],
      "metadata": {
        "id": "aqsh0icLhJP8"
      },
      "id": "aqsh0icLhJP8"
    },
    {
      "cell_type": "markdown",
      "source": [
        "**Indonesian**"
      ],
      "metadata": {
        "id": "2k38M_4dgzvS"
      },
      "id": "2k38M_4dgzvS"
    },
    {
      "cell_type": "code",
      "source": [
        "#Data of Prediction\n",
        "text = \"\"\"Saya menyukainya dalam diam. Saya sangat mencintainya dan hati saya berdebar saat melihatnya.\"\"\"\n",
        "\n",
        "text = [text]\n",
        "\n",
        "text_counts = X_CountVectorizer.transform(text)\n",
        "\n",
        "#Prediction Processing\n",
        "prediction = model.predict(text_counts)\n",
        "\n",
        "f\"Prediction is {prediction[0]}\""
      ],
      "metadata": {
        "colab": {
          "base_uri": "https://localhost:8080/",
          "height": 35
        },
        "id": "ZX-4xu5HhMbF",
        "outputId": "c3aa6027-7953-4d84-9aac-12c867d9ee1c"
      },
      "id": "ZX-4xu5HhMbF",
      "execution_count": 18,
      "outputs": [
        {
          "output_type": "execute_result",
          "data": {
            "text/plain": [
              "'Prediction is Indonesian'"
            ],
            "application/vnd.google.colaboratory.intrinsic+json": {
              "type": "string"
            }
          },
          "metadata": {},
          "execution_count": 18
        }
      ]
    },
    {
      "cell_type": "markdown",
      "source": [],
      "metadata": {
        "id": "A8OHJxOtgWSg"
      },
      "id": "A8OHJxOtgWSg"
    }
  ],
  "metadata": {
    "kernelspec": {
      "display_name": "Python 3",
      "language": "python",
      "name": "python3"
    },
    "language_info": {
      "codemirror_mode": {
        "name": "ipython",
        "version": 3
      },
      "file_extension": ".py",
      "mimetype": "text/x-python",
      "name": "python",
      "nbconvert_exporter": "python",
      "pygments_lexer": "ipython3",
      "version": "3.7.12"
    },
    "papermill": {
      "default_parameters": {},
      "duration": 31.480013,
      "end_time": "2022-05-02T17:56:29.323203",
      "environment_variables": {},
      "exception": null,
      "input_path": "__notebook__.ipynb",
      "output_path": "__notebook__.ipynb",
      "parameters": {},
      "start_time": "2022-05-02T17:55:57.843190",
      "version": "2.3.4"
    },
    "colab": {
      "provenance": []
    }
  },
  "nbformat": 4,
  "nbformat_minor": 5
}